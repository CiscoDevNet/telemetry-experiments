{
 "cells": [
  {
   "cell_type": "markdown",
   "id": "e05f3eb5",
   "metadata": {},
   "source": [
    "# Diagnosing Model Driven Telemetry timeseries\n",
    "\n",
    "This notebook uses an LLM to turn a selected set of sensor paths (sensor path name and value) into a \"diagnosis\" in natural language."
   ]
  },
  {
   "cell_type": "code",
   "execution_count": null,
   "id": "7912976a",
   "metadata": {
    "scrolled": true
   },
   "outputs": [],
   "source": [
    "%load_ext autoreload\n",
    "%autoreload 2"
   ]
  },
  {
   "cell_type": "markdown",
   "id": "c2ec24aa",
   "metadata": {},
   "source": [
    "## Load MDT Changepoints\n",
    "An MDT changepoint maps to a significant network state change detected within a network device, capturing the correlating ranked sensor-paths as features to perform a diagnosis.\n",
    "\n",
    "For the purposes of this experiment, we start with a JSON file capturing a collection of MDT Changepoints, and for each changepoint, a list of MDT sensors paths, as features, grouped by the source router. This notebook focuses on the approach to  diagnose one router within a selected changepoint.\n",
    "\n"
   ]
  },
  {
   "cell_type": "code",
   "execution_count": null,
   "id": "a86c8c89",
   "metadata": {},
   "outputs": [],
   "source": [
    "import os\n",
    "import json\n",
    "from modules.logger import Logger\n",
    "import modules.utils as utils\n",
    "\n",
    "# returns JSON object as \n",
    "# a dictionary\n",
    "changepoints = json.load(open('./datasets/mdt-demo.json'))\n",
    "mdt_changepoint = changepoints[0]\n",
    "mdt_changepoint['Features'] = '\\n'.join(mdt_changepoint['Features'])\n",
    "\n",
    "utils.displayDictionary(mdt_changepoint)\n"
   ]
  },
  {
   "cell_type": "markdown",
   "id": "93dacaf4",
   "metadata": {},
   "source": [
    "## Initialise LLM Client"
   ]
  },
  {
   "cell_type": "code",
   "execution_count": null,
   "id": "a5dc2eba",
   "metadata": {},
   "outputs": [],
   "source": [
    "from modules.llm.azure_ai import AzureLlm\n",
    "from dotenv import load_dotenv\n",
    "\n",
    "load_dotenv(\"env\")\n",
    "\n",
    "logger = Logger()\n",
    "llm = AzureLlm(logger,os.getenv('AZURE_OPENAI_API_KEY'))\n"
   ]
  },
  {
   "cell_type": "markdown",
   "id": "d2c2e820",
   "metadata": {},
   "source": [
    "## Perform Initial Diagnosis\n",
    "Use a prompt engineered to perform an initial draft diagnosis from the MDT changepoint features extracted for a specific device.\n"
   ]
  },
  {
   "cell_type": "markdown",
   "id": "93406e4d",
   "metadata": {},
   "source": [
    "### Prompt Engineering: Sensor Path Diagnosis Prompt\n",
    "\n",
    "Implement a specific prompt engineered to request the LLM to perform a network level diagnosis based upon the extracted MDT sensor path features."
   ]
  },
  {
   "cell_type": "code",
   "execution_count": null,
   "id": "98219c9d",
   "metadata": {},
   "outputs": [],
   "source": [
    "from string import Template\n",
    "from modules.llm.prompt import JsonCompletion\n",
    "from modules.llm.llm import LlmInterface\n",
    "    \n",
    "class MdtDiagnosisPrompt(JsonCompletion):\n",
    "    _template = Template(\n",
    "\"\"\"You are a networking expert.\n",
    "You are diagnosing a network issue based on telemetry information received from a Cisco router running IOS-XR 7.3.1.\n",
    "\n",
    "Below, in the \"List of sensor paths\" section you find a list of YANG sensor path counters which\n",
    "have changed the most while the issue occurred. \n",
    "Each line shows the name of the sensor path counter and the absolute amount that the sensor path counter \n",
    "has changed separated by the word CHANGE.\n",
    "The sensor path counters are descriptive of the issue.\n",
    "\n",
    "Perform the following two steps one after the other:\n",
    "\n",
    "1. First, create a 'ISSUE', explain what is the issue with this router in a single paragraph. Be technical and specific.\n",
    "2. Second, create a 'RESOLUTION', detailing your suggested next steps to fix the issue in a single paragraph. Be technical and specific.\n",
    "Your response must only contain RFC8259 compliant JSON in the following format wrapped within [JSON] tags.\n",
    "[JSON]\n",
    "{\n",
    "    \"ISSUE\": \"your diagnosis\",\n",
    "    \"RESOLUTION\": \"your resolution\"\n",
    "}\n",
    "[JSON]\n",
    " \n",
    "### List of sensor paths \\n \\n\n",
    "$sensor_paths\n",
    "\"\"\")\n",
    "    \n",
    "    _schema = {\n",
    "        \"type\": \"object\",\n",
    "        \"properties\": {\n",
    "            \"ISSUE\": {\"type\": \"string\"},\n",
    "            \"RESOLUTION\": {\"type\": \"string\"},\n",
    "        },\n",
    "        \"required\": [\n",
    "            \"ISSUE\",\n",
    "            \"RESOLUTION\"\n",
    "        ]\n",
    "    }\n",
    "\n",
    "    def __init__(self, logger, llm : LlmInterface):\n",
    "        super().__init__(logger, llm, self._schema)\n",
    "        self._logger = logger\n",
    "        self._data = None\n",
    "                \n",
    "    def run(self, sensor_paths):\n",
    "        self._prompt = self._template.substitute(sensor_paths=sensor_paths)\n",
    "        self._logger.info(f'Diagnose Sensor Paths Prompt:\\n {self._prompt}')\n",
    "        \n",
    "        self._data = self.promptJsonResponse(self._prompt)\n",
    "        \n",
    "    def getDiagnosis(self):\n",
    "        if self._data is not None:\n",
    "            return f'ISSUE:\\n{self._data[\"ISSUE\"]}\\n\\nRESOLUTION:\\n{self._data[\"RESOLUTION\"]}'\n",
    "        \n",
    "        return \"\"\n",
    "    \n",
    "    def getIssue(self):\n",
    "        return self._data[\"ISSUE\"]        \n",
    "    \n",
    "    def getResolution(self):\n",
    "        return self._data[\"RESOLUTION\"]\n",
    "                \n",
    "    def get(self) -> str:\n",
    "        if self._prompt is None:\n",
    "            self._prompt = self._template.substitute(sensor_paths=self._sensor_paths)\n",
    "        \n",
    "        return self._prompt\n"
   ]
  },
  {
   "cell_type": "markdown",
   "id": "21b6b8fc",
   "metadata": {},
   "source": [
    "### Create the Diagnosis\n",
    "Use the first device from the selected changepoint, and use the correlating sensor paths as features to instantiate and run the Sensor Path Diagnosis prompt."
   ]
  },
  {
   "cell_type": "code",
   "execution_count": null,
   "id": "6580bd9a",
   "metadata": {
    "tags": []
   },
   "outputs": [],
   "source": [
    "\n",
    "sensor_path_diag = MdtDiagnosisPrompt(logger, llm)\n",
    "sensor_path_diag.run(mdt_changepoint[\"Features\"])\n",
    "\n",
    "mdt_changepoint['Initial Diagnosis'] = sensor_path_diag.getDiagnosis()\n",
    "utils.displayDictionary(mdt_changepoint)"
   ]
  }
 ],
 "metadata": {
  "kernelspec": {
   "display_name": "ai-diagnosis",
   "language": "python",
   "name": "ai-diagnosis"
  },
  "language_info": {
   "codemirror_mode": {
    "name": "ipython",
    "version": 3
   },
   "file_extension": ".py",
   "mimetype": "text/x-python",
   "name": "python",
   "nbconvert_exporter": "python",
   "pygments_lexer": "ipython3",
   "version": "3.10.13"
  }
 },
 "nbformat": 4,
 "nbformat_minor": 5
}
