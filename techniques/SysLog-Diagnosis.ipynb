{
 "cells": [
  {
   "cell_type": "markdown",
   "id": "e05f3eb5",
   "metadata": {},
   "source": [
    "# Diagnosing a Syslog file\n",
    "\n",
    "This notebook uses an LLM to interpret a set of syslog entries."
   ]
  },
  {
   "cell_type": "code",
   "execution_count": null,
   "id": "7912976a",
   "metadata": {
    "scrolled": true
   },
   "outputs": [],
   "source": [
    "%load_ext autoreload\n",
    "%autoreload 2"
   ]
  },
  {
   "cell_type": "markdown",
   "id": "c2ec24aa",
   "metadata": {},
   "source": [
    "## Load Syslog Features\n",
    "For the purposes of this experiment, we start with a JSON file capturing a collection of syslog entries, as features, grouped by source device for a specific issue we want to diagnose.  These features have been ranked as the most important log entries for performing a diagnosis."
   ]
  },
  {
   "cell_type": "code",
   "execution_count": null,
   "id": "a86c8c89",
   "metadata": {},
   "outputs": [],
   "source": [
    "import os\n",
    "import json\n",
    "\n",
    "syslog_features = json.load(open('./datasets/syslog-demo.json'))\n",
    "print(json.dumps(syslog_features, indent=2))"
   ]
  },
  {
   "cell_type": "markdown",
   "id": "93dacaf4",
   "metadata": {},
   "source": [
    "## Initialise LLM Client"
   ]
  },
  {
   "cell_type": "code",
   "execution_count": null,
   "id": "a5dc2eba",
   "metadata": {},
   "outputs": [],
   "source": [
    "from modules.llm.azure_ai import AzureLlm\n",
    "from modules.logger import Logger\n",
    "from dotenv import load_dotenv\n",
    "\n",
    "load_dotenv(\"env\")\n",
    "\n",
    "logger = Logger()\n",
    "llm = AzureLlm(logger,os.getenv('AZURE_OPENAI_API_KEY'))"
   ]
  },
  {
   "cell_type": "markdown",
   "id": "d2c2e820",
   "metadata": {},
   "source": [
    "## Perform Initial Diagnosis\n",
    "Use a prompt engineered to perform an initial draft diagnosis from the features (line entries) extracted from the device syslog file correlating the issue.\n",
    "\n",
    "The syslog feature metadata indicates that the featured log entries were captured from a NETWORK-DEVICE. "
   ]
  },
  {
   "cell_type": "markdown",
   "id": "e9524d60",
   "metadata": {},
   "source": [
    "### Prompt Engineering: Network Diagnosis Prompt\n",
    "\n",
    "Implement a specific prompt engineered to request the LLM to perform a network level diagnosis based upon the extracted syslog feature.\n"
   ]
  },
  {
   "cell_type": "code",
   "execution_count": null,
   "id": "98219c9d",
   "metadata": {},
   "outputs": [],
   "source": [
    "from modules.llm.prompt import DiagnosisPrompt\n",
    "from modules.llm.llm import LlmInterface\n",
    "    \n",
    "class SyslogDiagnosis(DiagnosisPrompt):\n",
    "    _task_is_issue = \"\"\"Below, in the 'syslog capture' section you will find a capture of the most important log entries from the specified 'syslog file name'.\n",
    "\n",
    "Perform the following steps:\n",
    "\n",
    "1) Determine whether the \"syslog capture\" is an issue containing anomalous information that could point to a potential problem, or whether the \"syslog capture\" just shows a system operating normally. DO NOT consider \"SSH RSA Key Size compliance violation\" as an issue.\n",
    "2) If you determine the system is operating normally, then set 'issue' to false your response and do not perform steps 3 below (see \"Example 1\" below), otherwise continue on to next 3.\n",
    "3) Create a technical 'description' of what this issue is (see \"Example 2\" below). Be sure to keep technical details in the description (such as host names, IP addresses, interfaces, ...). Also consider the \"syslog file name\" to determine the host name. \n",
    "\n",
    "Your response must only contain RFC8259 compliant JSON in the following format wrapped within [JSON] tags.\n",
    "### Example 1:\n",
    "[JSON]\n",
    "{\n",
    "    \"issue\": false\n",
    "}\n",
    "[JSON]\n",
    "\n",
    "### Example 2:\n",
    "[JSON]\n",
    "{\n",
    "    \"issue\": true,\n",
    "    \"description\": \"A technical description of the issue\",\n",
    "}\n",
    "[JSON]\n",
    "\"\"\"\n",
    "    _schema_is_issue = _schema = {\n",
    "        \"type\": \"object\",\n",
    "        \"properties\": {\n",
    "            \"issue\": {\"type\": \"boolean\"},\n",
    "            \"description\": {\"type\": \"string\"}\n",
    "        },\n",
    "        \"required\": [\n",
    "            \"issue\",            \n",
    "        ]\n",
    "    }\n",
    "\n",
    "    _task_resolution = \"\"\"Below, in the 'syslog capture' section you will find a capture of the most important log entries used to create the provided 'issue description'.\n",
    "\n",
    "Perform the following steps:\n",
    "\n",
    "1) Create a 'resolution', composed of a single paragraph detailing your suggested next steps to fix the provided 'issue description' for the 'syslog capture'. Be technical and specific.\n",
    "\n",
    "Your response must only contain RFC8259 compliant JSON in the following format wrapped within [JSON] tags, see 'Example' below\n",
    "### Example:\n",
    "[JSON]\n",
    "{\n",
    "    \"resolution: \"Suggested next steps to fix the issue\"\n",
    "}\n",
    "[JSON]\n",
    "\"\"\"\n",
    "    _schema_resolution = _schema = {\n",
    "        \"type\": \"object\",\n",
    "        \"properties\": {\n",
    "            \"resolution\": {\"type\": \"string\"}\n",
    "        },\n",
    "        \"required\": [\n",
    "            \"resolution\",            \n",
    "        ]\n",
    "    }\n",
    "    \n",
    "    _feature_desc = \"Syslog capture\"\n",
    "    \n",
    "    def __init__(self, logger, llm : LlmInterface, context):\n",
    "        super().__init__(logger, llm, context=context, task=self._task_is_issue, feature_desc=self._feature_desc)\n",
    "        \n",
    "    def taskIsIssue(self, file, features):\n",
    "        self.reset()\n",
    "        self._schema = self._schema_is_issue\n",
    "        self._task = self._task_is_issue\n",
    "        super().run(features + \"\\n\\n### syslog file name: \" + file)                \n",
    "        \n",
    "    def taskResolution(self, features):\n",
    "        if self.isIssue():\n",
    "            self._schema = self._schema_resolution\n",
    "            self._task = self._task_resolution\n",
    "            super().run(features + \"\\n\\n### issue description: \" + self.getIssue())\n",
    "            \n",
    "    def run(self, file, features):\n",
    "        self.taskIsIssue(file, features)\n",
    "        self.taskResolution(features)\n",
    "        \n",
    "        \n",
    "class NetworkDiagnosisPrompt(SyslogDiagnosis):\n",
    "    _context = \"\"\"You are a networking expert.\n",
    "You are diagnosing a network issue based on syslog received from a Cisco router running IOSv 15.9.\"\"\"\n",
    "    \n",
    "    def __init__(self, logger, llm : LlmInterface):\n",
    "        super().__init__(logger, llm, self._context)\n",
    "                        \n",
    "    def run(self, file, features):\n",
    "        self._logger.info('LLM Prompt: Diagnose Network Syslog features')\n",
    "        super().run(file, features)\n",
    "\n",
    "class KurbernetesPodDiagnosisPrompt(SyslogDiagnosis):\n",
    "    _context = \"\"\"You are an IT expert.\n",
    "You are diagnosing a issue based on a syslog received from a Kubernetes pod.\"\"\"\n",
    "   \n",
    "    def __init__(self, logger, llm : LlmInterface):\n",
    "        super().__init__(logger, llm, self._context)\n",
    "                        \n",
    "    def run(self, file, features):\n",
    "        self._logger.info('LLM Prompt: Diagnose Kubernetes Syslog features')\n",
    "        super().run(file, features) \n",
    "        \n",
    "class GenericDiagnosisPrompt(SyslogDiagnosis):\n",
    "    _context = \"\"\"You are an IT expert.\n",
    "You are diagnosing an issue based on a syslog received.\"\"\"\n",
    "        \n",
    "    def __init__(self, logger, llm : LlmInterface):\n",
    "        super().__init__(logger, llm, self._context)\n",
    "                        \n",
    "    def run(self, file, features):\n",
    "        self._logger.info('LLM Prompt: Diagnose Syslog features')\n",
    "        super().run(file, features)"
   ]
  },
  {
   "cell_type": "markdown",
   "id": "21b6b8fc",
   "metadata": {},
   "source": [
    "### Create the Initial Diagnosis\n",
    "Use the featured device type to instantiate and run the Network Diagnosis prompt.\n"
   ]
  },
  {
   "cell_type": "code",
   "execution_count": null,
   "id": "6580bd9a",
   "metadata": {},
   "outputs": [],
   "source": [
    "syslog_diagnoses = []\n",
    "\n",
    "for syslog_feature in syslog_features:\n",
    "    # Create a dictionary to capture the details of the syslog diagnosis\n",
    "    syslog_diagnosis = {\n",
    "        'Entity': syslog_feature['Entity'],\n",
    "        'Features': '\\n'.join(str(s) for s in syslog_feature[\"Features\"]),\n",
    "        'Issue': False,\n",
    "        'Description': \"NONE\",\n",
    "        'Resolution': \"NONE\"\n",
    "    }\n",
    "    \n",
    "    diagnosisPrompt = None\n",
    "    match syslog_feature[\"Type\"]:\n",
    "        case \"NETWORK_DEVICE\":\n",
    "            diagnosisPrompt = NetworkDiagnosisPrompt(logger, llm)\n",
    "        case \"KUBERNETES_POD\":\n",
    "            diagnosisPrompt = KurbernetesPodDiagnosisPrompt(logger, llm)\n",
    "        case _:\n",
    "            diagnosisPrompt = GenericDiagnosisPrompt(logger, llm)\n",
    "        \n",
    "    \n",
    "    # First task is to get the LLM to determine whether the extracted syslog features correlate to an issue of a potential problem that needs to be resolved.\n",
    "    diagnosisPrompt.taskIsIssue(syslog_feature['File'], syslog_diagnosis['Features'])\n",
    "    syslog_diagnosis['Issue'] = diagnosisPrompt.isIssue()\n",
    "    \n",
    "    if diagnosisPrompt.isIssue():\n",
    "        syslog_diagnosis['Description'] = diagnosisPrompt.getIssue()\n",
    "        diagnosisPrompt.taskResolution(syslog_diagnosis['Features'])\n",
    "        syslog_diagnosis['Resolution'] = diagnosisPrompt.getResolution()\n",
    "                \n",
    "    syslog_diagnoses.append(syslog_diagnosis)\n",
    "\n"
   ]
  },
  {
   "cell_type": "code",
   "execution_count": null,
   "id": "50cebd57",
   "metadata": {
    "tags": []
   },
   "outputs": [],
   "source": [
    "import modules.utils as utils\n",
    "utils.displayDictionary(syslog_diagnoses)"
   ]
  },
  {
   "cell_type": "code",
   "execution_count": null,
   "id": "b9f6575e-f7b3-4bc7-9e8f-63a7c900fcf9",
   "metadata": {},
   "outputs": [],
   "source": []
  }
 ],
 "metadata": {
  "kernelspec": {
   "display_name": "ai-diagnosis",
   "language": "python",
   "name": "ai-diagnosis"
  },
  "language_info": {
   "codemirror_mode": {
    "name": "ipython",
    "version": 3
   },
   "file_extension": ".py",
   "mimetype": "text/x-python",
   "name": "python",
   "nbconvert_exporter": "python",
   "pygments_lexer": "ipython3",
   "version": "3.10.13"
  }
 },
 "nbformat": 4,
 "nbformat_minor": 5
}
